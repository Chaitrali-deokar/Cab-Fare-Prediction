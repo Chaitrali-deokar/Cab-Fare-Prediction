{
 "cells": [
  {
   "cell_type": "code",
   "execution_count": 1,
   "metadata": {
    "scrolled": true
   },
   "outputs": [
    {
     "name": "stderr",
     "output_type": "stream",
     "text": [
      "Using TensorFlow backend.\n"
     ]
    }
   ],
   "source": [
    "#Load libraries\n",
    "import os\n",
    "import pandas as pd\n",
    "import numpy as np\n",
    "from fancyimpute import KNN   \n",
    "import matplotlib.pyplot as plt\n",
    "from scipy.stats import chi2_contingency\n",
    "import seaborn as sns\n",
    "from random import randrange, uniform"
   ]
  },
  {
   "cell_type": "code",
   "execution_count": 2,
   "metadata": {},
   "outputs": [],
   "source": [
    "#Set The Current working directory\n",
    "os.chdir(\"C:/Users/Chaitrali/Downloads/Data/data01s2l1/Edwisor-Project/CabfarePred\")"
   ]
  },
  {
   "cell_type": "code",
   "execution_count": 33,
   "metadata": {},
   "outputs": [],
   "source": [
    "# LOad the train Data\n",
    "cab=(pd.read_csv('train_cab.csv', header = 0 )).drop(columns=\"pickup_datetime\")"
   ]
  },
  {
   "cell_type": "code",
   "execution_count": 34,
   "metadata": {},
   "outputs": [],
   "source": [
    "#Remove all entires where the pickup and drop locations are same\n",
    "cab=cab[np.logical_and(cab['pickup_longitude'] != cab['dropoff_longitude'], cab['pickup_latitude'] != cab['dropoff_latitude'])]"
   ]
  },
  {
   "cell_type": "code",
   "execution_count": 35,
   "metadata": {},
   "outputs": [],
   "source": [
    "#replace 0 with NA in the variables\n",
    "cab['fare_amount']= cab['fare_amount'].apply(pd.to_numeric, errors='coerce')\n",
    "cab['fare_amount']= cab['fare_amount'].replace({0:np.nan})\n",
    "cab['passenger_count']=cab['passenger_count'].fillna(0)\n",
    "cab['passenger_count']= cab['passenger_count'].astype(int)\n",
    "cab['passenger_count']=cab['passenger_count'].replace({0: np.nan})\n",
    "cab['pickup_longitude']= cab['pickup_longitude'].replace({0:np.nan})\n",
    "cab['pickup_latitude']= cab['pickup_latitude'].replace({0:np.nan})\n",
    "cab['dropoff_longitude']= cab['dropoff_longitude'].replace({0:np.nan})\n",
    "cab['dropoff_latitude']= cab['dropoff_latitude'].replace({0:np.nan})"
   ]
  },
  {
   "cell_type": "code",
   "execution_count": 37,
   "metadata": {},
   "outputs": [],
   "source": [
    "#creaet a function to calculate missing values\n",
    "def missingval(data):\n",
    "    missing_val = pd.DataFrame(data.isnull().sum())\n",
    "    \n",
    "#Reset index\n",
    "    missing_val = missing_val.reset_index()\n",
    "\n",
    "#Rename variable\n",
    "    missing_val = missing_val.rename(columns = {'index': 'Variables', 0: 'count'})\n",
    "\n",
    "#Calculate percentage\n",
    "    missing_val['Missing_percentage'] = (missing_val['count']/len(cab)*100)\n",
    "\n",
    "#descending order\n",
    "    missing_val = missing_val.sort_values('Missing_percentage', ascending = False).reset_index(drop = True)\n",
    "    print(missing_val)\n",
    "    "
   ]
  },
  {
   "cell_type": "code",
   "execution_count": 24,
   "metadata": {},
   "outputs": [],
   "source": [
    "#Impute with mean\n",
    "# cab['pickup_longitude'] = cab['pickup_longitude'].fillna(cab['pickup_longitude'].mean())\n",
    "# -73.85475529027732\n",
    "#Impute with median\n",
    "# cab['pickup_longitude'] = cab['pickup_longitude'].fillna(cab['pickup_longitude'].median())\n",
    "# -73.9820495\n",
    "#Apply KNN imputation algorithm\n",
    "# cab = pd.DataFrame(KNN(k = 1).fit_transform(cab), columns = cab.columns)\n",
    "# -73.890529"
   ]
  },
  {
   "cell_type": "code",
   "execution_count": 39,
   "metadata": {},
   "outputs": [],
   "source": [
    "#Since Mean is the best method, we impute missing values with mean\n",
    "# cab['fare_amount'] = cab['fare_amount'].fillna(cab['fare_amount'].mean())\n",
    "cab['pickup_longitude']= cab['pickup_longitude'].fillna(cab['pickup_longitude'].mean())\n",
    "cab['pickup_latitude']= cab['pickup_latitude'].fillna(cab['pickup_latitude'].mean())\n",
    "cab['dropoff_longitude']= cab['dropoff_longitude'].fillna(cab['dropoff_longitude'].mean())\n",
    "cab['dropoff_latitude']= cab['dropoff_latitude'].fillna(cab['dropoff_latitude'].mean())\n",
    "\n",
    "\n",
    "#for category variables we impute with mode\n",
    "cab['passenger_count'] = cab['passenger_count'].fillna(int(cab['passenger_count'].mode()))"
   ]
  },
  {
   "cell_type": "code",
   "execution_count": 41,
   "metadata": {},
   "outputs": [],
   "source": [
    "#Imputing the NAs in target variables will bias the model, hence remove them\n",
    "cab=cab.dropna()"
   ]
  },
  {
   "cell_type": "code",
   "execution_count": 42,
   "metadata": {},
   "outputs": [],
   "source": [
    "#conert into proper data type\n",
    "convert_dic={'fare_amount' : 'float','passenger_count': 'int'}\n",
    "cab=cab.astype(convert_dic)"
   ]
  },
  {
   "cell_type": "markdown",
   "metadata": {},
   "source": [
    "# Outlier Analysis"
   ]
  },
  {
   "cell_type": "code",
   "execution_count": 21,
   "metadata": {},
   "outputs": [],
   "source": [
    "#save it in another name, incase we need it again\n",
    "df = cab.copy()\n",
    "cab = df.copy()\n"
   ]
  },
  {
   "cell_type": "code",
   "execution_count": 43,
   "metadata": {},
   "outputs": [],
   "source": [
    "# fare_amount at the higher end are converted to na\n",
    "cab.loc[cab['fare_amount']<0 , 'fare_amount']=np.nan\n",
    "cab.loc[cab['fare_amount'] > 30, 'fare_amount']=np.nan\n",
    "cab=cab.dropna()"
   ]
  },
  {
   "cell_type": "code",
   "execution_count": 44,
   "metadata": {},
   "outputs": [],
   "source": [
    "#there are few passenger counts that are greater than 8. convert them intoNAN\n",
    "cab.loc[cab['passenger_count'] > 8,'passenger_count'] = np.nan"
   ]
  },
  {
   "cell_type": "code",
   "execution_count": 45,
   "metadata": {},
   "outputs": [],
   "source": [
    "#save numeric names\n",
    "coutliers = [ 'pickup_longitude', 'pickup_latitude', 'dropoff_longitude', 'dropoff_latitude']\n",
    "for list in coutliers:\n",
    "    #Detect and replace with NA\n",
    "    # #Extract quartiles\n",
    "    q75, q25 = np.percentile(cab[list], [75 ,25])\n",
    "\n",
    "    #Calculate IQR\n",
    "    iqr = q75 - q25\n",
    "   \n",
    "    # #Calculate inner and outer fence\n",
    "    minimum = q25 - (iqr*1.5)\n",
    "    maximum = q75 + (iqr*1.5)\n",
    "\n",
    "    # #Replace with NA\n",
    "    cab.loc[cab[list] < minimum,list] = np.nan\n",
    "    cab.loc[cab[list] > maximum,list] = np.nan\n",
    "\n",
    "    # #Calculate missing value\n",
    "    missing_val = pd.DataFrame(cab.isnull().sum())\n",
    "    \n"
   ]
  },
  {
   "cell_type": "code",
   "execution_count": 47,
   "metadata": {},
   "outputs": [],
   "source": [
    "#Since Mean is the best method, we impute missing values with mean\n",
    "\n",
    "cab['pickup_longitude'] = cab['pickup_longitude'].fillna(cab['pickup_longitude'].mean())\n",
    "cab['pickup_latitude'] = cab['pickup_latitude'].fillna(cab['pickup_latitude'].mean())\n",
    "cab['dropoff_longitude'] = cab['dropoff_longitude'].fillna(cab['dropoff_longitude'].mean())\n",
    "cab['dropoff_latitude'] = cab['dropoff_latitude'].fillna(cab['dropoff_latitude'].mean())\n",
    "\n",
    "#for category variables we impute with mode\n",
    "cab['passenger_count'] = cab['passenger_count'].fillna(int(cab['passenger_count'].mode()))"
   ]
  },
  {
   "cell_type": "code",
   "execution_count": 49,
   "metadata": {},
   "outputs": [],
   "source": [
    "#first convert passenger_count to int to round to whole number and then to category\n",
    "cab['passenger_count']=cab['passenger_count'].astype('int')\n",
    "cab['passenger_count']=cab['passenger_count'].astype('category')"
   ]
  },
  {
   "cell_type": "markdown",
   "metadata": {},
   "source": [
    "# Feature Selection"
   ]
  },
  {
   "cell_type": "code",
   "execution_count": 51,
   "metadata": {},
   "outputs": [],
   "source": [
    "# vectorized haversine function\n",
    "def haversine(lat1, lon1, lat2, lon2, to_radians=True, earth_radius=6371):\n",
    "   \n",
    "    if to_radians:\n",
    "        lat1, lon1, lat2, lon2 = np.radians([lat1, lon1, lat2, lon2])\n",
    "\n",
    "    a = np.sin((lat2-lat1)/2.0)**2 + \\\n",
    "        np.cos(lat1) * np.cos(lat2) * np.sin((lon2-lon1)/2.0)**2\n",
    "\n",
    "    return earth_radius * 2 * np.arcsin(np.sqrt(a))\n"
   ]
  },
  {
   "cell_type": "code",
   "execution_count": 52,
   "metadata": {},
   "outputs": [],
   "source": [
    "cab['dist'] = \\\n",
    "    haversine( cab['pickup_latitude'], cab['pickup_longitude'],\n",
    "                 cab['dropoff_latitude'], cab['dropoff_longitude'])"
   ]
  },
  {
   "cell_type": "code",
   "execution_count": 53,
   "metadata": {},
   "outputs": [],
   "source": [
    "##Correlation analysis\n",
    "#Correlation plot\n",
    "numeric=['fare_amount','pickup_longitude','pickup_latitude','dropoff_longitude','dropoff_latitude', 'dist']\n",
    "cab_corr = cab.loc[:,numeric]\n"
   ]
  },
  {
   "cell_type": "code",
   "execution_count": 54,
   "metadata": {},
   "outputs": [
    {
     "name": "stdout",
     "output_type": "stream",
     "text": [
      "                   fare_amount  pickup_longitude  pickup_latitude  \\\n",
      "fare_amount           1.000000         -0.049048        -0.058189   \n",
      "pickup_longitude     -0.049048          1.000000         0.667898   \n",
      "pickup_latitude      -0.058189          0.667898         1.000000   \n",
      "dropoff_longitude     0.047812          0.364221         0.292859   \n",
      "dropoff_latitude     -0.077419          0.318047         0.442187   \n",
      "dist                  0.671338         -0.046097        -0.080819   \n",
      "\n",
      "                   dropoff_longitude  dropoff_latitude      dist  \n",
      "fare_amount                 0.047812         -0.077419  0.671338  \n",
      "pickup_longitude            0.364221          0.318047 -0.046097  \n",
      "pickup_latitude             0.292859          0.442187 -0.080819  \n",
      "dropoff_longitude           1.000000          0.595850  0.063092  \n",
      "dropoff_latitude            0.595850          1.000000 -0.060969  \n",
      "dist                        0.063092         -0.060969  1.000000  \n"
     ]
    },
    {
     "data": {
      "text/plain": [
       "<matplotlib.axes._subplots.AxesSubplot at 0xe704b60ba8>"
      ]
     },
     "execution_count": 54,
     "metadata": {},
     "output_type": "execute_result"
    },
    {
     "data": {
      "image/png": "[encoded data removed]",
      "text/plain": [
       "<Figure size 504x360 with 2 Axes>"
      ]
     },
     "metadata": {
      "needs_background": "light"
     },
     "output_type": "display_data"
    }
   ],
   "source": [
    "#Set the width and hieght of the plot\n",
    "f, ax = plt.subplots(figsize=(7, 5))\n",
    "\n",
    "#Generate correlation matrix\n",
    "corr = cab_corr.corr()\n",
    "print(corr)\n",
    "#Plot using seaborn library\n",
    "sns.heatmap(corr, mask=np.zeros_like(corr, dtype=np.bool), cmap=sns.diverging_palette(220, 10, as_cmap=True),\n",
    "            square=True, ax=ax)"
   ]
  },
  {
   "cell_type": "code",
   "execution_count": null,
   "metadata": {},
   "outputs": [],
   "source": [
    "#Remove all entires where the pickup and drop locations are same\n",
    "cab=cab[np.logical_and(cab['pickup_longitude'] != cab['dropoff_longitude'], cab['pickup_latitude'] != cab['dropoff_latitude'])]"
   ]
  },
  {
   "cell_type": "markdown",
   "metadata": {},
   "source": [
    "# Model Development"
   ]
  },
  {
   "cell_type": "markdown",
   "metadata": {},
   "source": [
    "# Decision Tree"
   ]
  },
  {
   "cell_type": "code",
   "execution_count": 56,
   "metadata": {},
   "outputs": [],
   "source": [
    "#Load libraries\n",
    "from sklearn.model_selection import train_test_split\n",
    "from sklearn.tree import DecisionTreeRegressor"
   ]
  },
  {
   "cell_type": "code",
   "execution_count": 57,
   "metadata": {},
   "outputs": [],
   "source": [
    "# Divide the data into train and test\n",
    "train, test = train_test_split(cab, test_size=0.2)\n",
    "# Already loaded"
   ]
  },
  {
   "cell_type": "code",
   "execution_count": 63,
   "metadata": {},
   "outputs": [],
   "source": [
    "# Decision tree for regression\n",
    "fit_DT = DecisionTreeRegressor(max_depth=2).fit(train.iloc[:, 1:7], train.iloc[:,0])"
   ]
  },
  {
   "cell_type": "code",
   "execution_count": 64,
   "metadata": {},
   "outputs": [
    {
     "data": {
      "text/plain": [
       "DecisionTreeRegressor(criterion='mse', max_depth=2, max_features=None,\n",
       "           max_leaf_nodes=None, min_impurity_decrease=0.0,\n",
       "           min_impurity_split=None, min_samples_leaf=1,\n",
       "           min_samples_split=2, min_weight_fraction_leaf=0.0,\n",
       "           presort=False, random_state=None, splitter='best')"
      ]
     },
     "execution_count": 64,
     "metadata": {},
     "output_type": "execute_result"
    }
   ],
   "source": [
    "fit_DT"
   ]
  },
  {
   "cell_type": "code",
   "execution_count": 65,
   "metadata": {},
   "outputs": [],
   "source": [
    "#Apply model on test data\n",
    "predictions_DT = fit_DT.predict(test.iloc[:,1:7])\n"
   ]
  },
  {
   "cell_type": "code",
   "execution_count": 66,
   "metadata": {},
   "outputs": [],
   "source": [
    "#Calculate MAPE\n",
    "def MAPE(y_true, y_pred): \n",
    "    mape = np.mean(np.abs((y_true - y_pred) / y_true))*100\n",
    "    return mape"
   ]
  },
  {
   "cell_type": "code",
   "execution_count": 67,
   "metadata": {},
   "outputs": [
    {
     "data": {
      "text/plain": [
       "29.71617460371191"
      ]
     },
     "execution_count": 67,
     "metadata": {},
     "output_type": "execute_result"
    }
   ],
   "source": [
    "MAPE(test.iloc[:,0], predictions_DT)\n"
   ]
  },
  {
   "cell_type": "code",
   "execution_count": null,
   "metadata": {},
   "outputs": [],
   "source": [
    "#Error 29.71"
   ]
  },
  {
   "cell_type": "markdown",
   "metadata": {},
   "source": [
    "# Random Forest"
   ]
  },
  {
   "cell_type": "code",
   "execution_count": 68,
   "metadata": {},
   "outputs": [],
   "source": [
    "#Random Forest\n",
    "from sklearn.ensemble import RandomForestRegressor\n",
    "\n"
   ]
  },
  {
   "cell_type": "code",
   "execution_count": 69,
   "metadata": {},
   "outputs": [],
   "source": [
    "RF_model = RandomForestRegressor(n_estimators = 10).fit(train.iloc[:, 1:7], train.iloc[:,0])\n"
   ]
  },
  {
   "cell_type": "code",
   "execution_count": 70,
   "metadata": {},
   "outputs": [
    {
     "data": {
      "text/plain": [
       "RandomForestRegressor(bootstrap=True, criterion='mse', max_depth=None,\n",
       "           max_features='auto', max_leaf_nodes=None,\n",
       "           min_impurity_decrease=0.0, min_impurity_split=None,\n",
       "           min_samples_leaf=1, min_samples_split=2,\n",
       "           min_weight_fraction_leaf=0.0, n_estimators=10, n_jobs=None,\n",
       "           oob_score=False, random_state=None, verbose=0, warm_start=False)"
      ]
     },
     "execution_count": 70,
     "metadata": {},
     "output_type": "execute_result"
    }
   ],
   "source": [
    "RF_model"
   ]
  },
  {
   "cell_type": "code",
   "execution_count": 71,
   "metadata": {},
   "outputs": [],
   "source": [
    "RF_Predictions = RF_model.predict(test.iloc[:, 1:7])"
   ]
  },
  {
   "cell_type": "code",
   "execution_count": 72,
   "metadata": {},
   "outputs": [
    {
     "data": {
      "text/plain": [
       "25.70792047195274"
      ]
     },
     "execution_count": 72,
     "metadata": {},
     "output_type": "execute_result"
    }
   ],
   "source": [
    "MAPE(test.iloc[:,0], RF_Predictions)"
   ]
  },
  {
   "cell_type": "code",
   "execution_count": null,
   "metadata": {},
   "outputs": [],
   "source": [
    "#error is 25.71\n",
    "#accuracy 75.29"
   ]
  },
  {
   "cell_type": "markdown",
   "metadata": {},
   "source": [
    "# KNN Imputation"
   ]
  },
  {
   "cell_type": "code",
   "execution_count": 73,
   "metadata": {},
   "outputs": [],
   "source": [
    "#KNN implementation\n",
    "from sklearn.neighbors import KNeighborsRegressor\n",
    "\n",
    "KNN_model = KNeighborsRegressor(n_neighbors = 1).fit(train.iloc[: , 1:7], train.iloc[:, 0])\n",
    "\n"
   ]
  },
  {
   "cell_type": "code",
   "execution_count": 74,
   "metadata": {},
   "outputs": [],
   "source": [
    "#predict test cases\n",
    "KNN_Predictions = KNN_model.predict(test.iloc[: , 1:7])\n"
   ]
  },
  {
   "cell_type": "code",
   "execution_count": 75,
   "metadata": {},
   "outputs": [
    {
     "data": {
      "text/plain": [
       "34.58694638425659"
      ]
     },
     "execution_count": 75,
     "metadata": {},
     "output_type": "execute_result"
    }
   ],
   "source": [
    "MAPE(test.iloc[:,0], KNN_Predictions)"
   ]
  },
  {
   "cell_type": "code",
   "execution_count": null,
   "metadata": {},
   "outputs": [],
   "source": [
    "#error is 35.21\n",
    "#accuracy is 65"
   ]
  },
  {
   "cell_type": "markdown",
   "metadata": {},
   "source": [
    "\n",
    "# Linear Regression\n"
   ]
  },
  {
   "cell_type": "code",
   "execution_count": 76,
   "metadata": {},
   "outputs": [],
   "source": [
    "value=['fare_amount', 'pickup_longitude','pickup_latitude', 'dropoff_longitude', 'dropoff_latitude', 'dist']"
   ]
  },
  {
   "cell_type": "code",
   "execution_count": 77,
   "metadata": {},
   "outputs": [],
   "source": [
    "linear = cab[value]\n"
   ]
  },
  {
   "cell_type": "code",
   "execution_count": 78,
   "metadata": {},
   "outputs": [],
   "source": [
    "cat_names = ['passenger_count']\n",
    "for i in cat_names:\n",
    "    temp = pd.get_dummies(cab[i], prefix= i)\n",
    "    linear = linear.join(temp)"
   ]
  },
  {
   "cell_type": "code",
   "execution_count": 81,
   "metadata": {},
   "outputs": [],
   "source": [
    "#Import libraries for LR\n",
    "import statsmodels.api as sm"
   ]
  },
  {
   "cell_type": "code",
   "execution_count": 82,
   "metadata": {},
   "outputs": [],
   "source": [
    "# Train the model using the training sets\n",
    "model = sm.OLS(train1.iloc[:, 0], train1.iloc[:, 1:12]).fit()"
   ]
  },
  {
   "cell_type": "code",
   "execution_count": 83,
   "metadata": {},
   "outputs": [
    {
     "data": {
      "text/html": [
       "<table class=\"simpletable\">\n",
       "<caption>OLS Regression Results</caption>\n",
       "<tr>\n",
       "  <th>Dep. Variable:</th>       <td>fare_amount</td>   <th>  R-squared:         </th> <td>   0.454</td> \n",
       "</tr>\n",
       "<tr>\n",
       "  <th>Model:</th>                   <td>OLS</td>       <th>  Adj. R-squared:    </th> <td>   0.454</td> \n",
       "</tr>\n",
       "<tr>\n",
       "  <th>Method:</th>             <td>Least Squares</td>  <th>  F-statistic:       </th> <td>   982.2</td> \n",
       "</tr>\n",
       "<tr>\n",
       "  <th>Date:</th>             <td>Fri, 07 Jun 2019</td> <th>  Prob (F-statistic):</th>  <td>  0.00</td>  \n",
       "</tr>\n",
       "<tr>\n",
       "  <th>Time:</th>                 <td>17:04:17</td>     <th>  Log-Likelihood:    </th> <td> -32527.</td> \n",
       "</tr>\n",
       "<tr>\n",
       "  <th>No. Observations:</th>      <td> 11816</td>      <th>  AIC:               </th> <td>6.508e+04</td>\n",
       "</tr>\n",
       "<tr>\n",
       "  <th>Df Residuals:</th>          <td> 11805</td>      <th>  BIC:               </th> <td>6.516e+04</td>\n",
       "</tr>\n",
       "<tr>\n",
       "  <th>Df Model:</th>              <td>    10</td>      <th>                     </th>     <td> </td>    \n",
       "</tr>\n",
       "<tr>\n",
       "  <th>Covariance Type:</th>      <td>nonrobust</td>    <th>                     </th>     <td> </td>    \n",
       "</tr>\n",
       "</table>\n",
       "<table class=\"simpletable\">\n",
       "<tr>\n",
       "          <td></td>             <th>coef</th>     <th>std err</th>      <th>t</th>      <th>P>|t|</th>  <th>[0.025</th>    <th>0.975]</th>  \n",
       "</tr>\n",
       "<tr>\n",
       "  <th>pickup_longitude</th>  <td>  -13.1754</td> <td>    3.054</td> <td>   -4.314</td> <td> 0.000</td> <td>  -19.162</td> <td>   -7.189</td>\n",
       "</tr>\n",
       "<tr>\n",
       "  <th>pickup_latitude</th>   <td>    9.5117</td> <td>    2.353</td> <td>    4.042</td> <td> 0.000</td> <td>    4.899</td> <td>   14.124</td>\n",
       "</tr>\n",
       "<tr>\n",
       "  <th>dropoff_longitude</th> <td>   14.0406</td> <td>    2.693</td> <td>    5.214</td> <td> 0.000</td> <td>    8.762</td> <td>   19.319</td>\n",
       "</tr>\n",
       "<tr>\n",
       "  <th>dropoff_latitude</th>  <td>  -16.1029</td> <td>    2.111</td> <td>   -7.627</td> <td> 0.000</td> <td>  -20.242</td> <td>  -11.964</td>\n",
       "</tr>\n",
       "<tr>\n",
       "  <th>dist</th>              <td>    1.9715</td> <td>    0.020</td> <td>   96.790</td> <td> 0.000</td> <td>    1.932</td> <td>    2.011</td>\n",
       "</tr>\n",
       "<tr>\n",
       "  <th>passenger_count_1</th> <td>  337.2362</td> <td>  341.174</td> <td>    0.988</td> <td> 0.323</td> <td> -331.521</td> <td> 1005.994</td>\n",
       "</tr>\n",
       "<tr>\n",
       "  <th>passenger_count_2</th> <td>  337.3306</td> <td>  341.177</td> <td>    0.989</td> <td> 0.323</td> <td> -331.432</td> <td> 1006.093</td>\n",
       "</tr>\n",
       "<tr>\n",
       "  <th>passenger_count_3</th> <td>  337.3130</td> <td>  341.179</td> <td>    0.989</td> <td> 0.323</td> <td> -331.455</td> <td> 1006.081</td>\n",
       "</tr>\n",
       "<tr>\n",
       "  <th>passenger_count_4</th> <td>  337.1180</td> <td>  341.178</td> <td>    0.988</td> <td> 0.323</td> <td> -331.647</td> <td> 1005.883</td>\n",
       "</tr>\n",
       "<tr>\n",
       "  <th>passenger_count_5</th> <td>  337.1729</td> <td>  341.176</td> <td>    0.988</td> <td> 0.323</td> <td> -331.588</td> <td> 1005.933</td>\n",
       "</tr>\n",
       "<tr>\n",
       "  <th>passenger_count_6</th> <td>  338.1581</td> <td>  341.174</td> <td>    0.991</td> <td> 0.322</td> <td> -330.599</td> <td> 1006.915</td>\n",
       "</tr>\n",
       "</table>\n",
       "<table class=\"simpletable\">\n",
       "<tr>\n",
       "  <th>Omnibus:</th>       <td>6001.110</td> <th>  Durbin-Watson:     </th> <td>   2.002</td> \n",
       "</tr>\n",
       "<tr>\n",
       "  <th>Prob(Omnibus):</th>  <td> 0.000</td>  <th>  Jarque-Bera (JB):  </th> <td>44796.799</td>\n",
       "</tr>\n",
       "<tr>\n",
       "  <th>Skew:</th>           <td> 2.344</td>  <th>  Prob(JB):          </th> <td>    0.00</td> \n",
       "</tr>\n",
       "<tr>\n",
       "  <th>Kurtosis:</th>       <td>11.308</td>  <th>  Cond. No.          </th> <td>2.86e+06</td> \n",
       "</tr>\n",
       "</table><br/><br/>Warnings:<br/>[1] Standard Errors assume that the covariance matrix of the errors is correctly specified.<br/>[2] The condition number is large, 2.86e+06. This might indicate that there are<br/>strong multicollinearity or other numerical problems."
      ],
      "text/plain": [
       "<class 'statsmodels.iolib.summary.Summary'>\n",
       "\"\"\"\n",
       "                            OLS Regression Results                            \n",
       "==============================================================================\n",
       "Dep. Variable:            fare_amount   R-squared:                       0.454\n",
       "Model:                            OLS   Adj. R-squared:                  0.454\n",
       "Method:                 Least Squares   F-statistic:                     982.2\n",
       "Date:                Fri, 07 Jun 2019   Prob (F-statistic):               0.00\n",
       "Time:                        17:04:17   Log-Likelihood:                -32527.\n",
       "No. Observations:               11816   AIC:                         6.508e+04\n",
       "Df Residuals:                   11805   BIC:                         6.516e+04\n",
       "Df Model:                          10                                         \n",
       "Covariance Type:            nonrobust                                         \n",
       "=====================================================================================\n",
       "                        coef    std err          t      P>|t|      [0.025      0.975]\n",
       "-------------------------------------------------------------------------------------\n",
       "pickup_longitude    -13.1754      3.054     -4.314      0.000     -19.162      -7.189\n",
       "pickup_latitude       9.5117      2.353      4.042      0.000       4.899      14.124\n",
       "dropoff_longitude    14.0406      2.693      5.214      0.000       8.762      19.319\n",
       "dropoff_latitude    -16.1029      2.111     -7.627      0.000     -20.242     -11.964\n",
       "dist                  1.9715      0.020     96.790      0.000       1.932       2.011\n",
       "passenger_count_1   337.2362    341.174      0.988      0.323    -331.521    1005.994\n",
       "passenger_count_2   337.3306    341.177      0.989      0.323    -331.432    1006.093\n",
       "passenger_count_3   337.3130    341.179      0.989      0.323    -331.455    1006.081\n",
       "passenger_count_4   337.1180    341.178      0.988      0.323    -331.647    1005.883\n",
       "passenger_count_5   337.1729    341.176      0.988      0.323    -331.588    1005.933\n",
       "passenger_count_6   338.1581    341.174      0.991      0.322    -330.599    1006.915\n",
       "==============================================================================\n",
       "Omnibus:                     6001.110   Durbin-Watson:                   2.002\n",
       "Prob(Omnibus):                  0.000   Jarque-Bera (JB):            44796.799\n",
       "Skew:                           2.344   Prob(JB):                         0.00\n",
       "Kurtosis:                      11.308   Cond. No.                     2.86e+06\n",
       "==============================================================================\n",
       "\n",
       "Warnings:\n",
       "[1] Standard Errors assume that the covariance matrix of the errors is correctly specified.\n",
       "[2] The condition number is large, 2.86e+06. This might indicate that there are\n",
       "strong multicollinearity or other numerical problems.\n",
       "\"\"\""
      ]
     },
     "execution_count": 83,
     "metadata": {},
     "output_type": "execute_result"
    }
   ],
   "source": [
    "# Print out the statistics\n",
    "model.summary()"
   ]
  },
  {
   "cell_type": "code",
   "execution_count": 84,
   "metadata": {},
   "outputs": [],
   "source": [
    "# make the predictions by the model\n",
    "predictions_LR = model.predict(test1.iloc[:,1:31]) \n"
   ]
  },
  {
   "cell_type": "code",
   "execution_count": 85,
   "metadata": {},
   "outputs": [
    {
     "data": {
      "text/plain": [
       "27.01811016316928"
      ]
     },
     "execution_count": 85,
     "metadata": {},
     "output_type": "execute_result"
    }
   ],
   "source": [
    "#Calculate MAPE\n",
    "MAPE(test1.iloc[:,0], predictions_LR)"
   ]
  },
  {
   "cell_type": "code",
   "execution_count": 163,
   "metadata": {},
   "outputs": [],
   "source": [
    "#MAPE 27.08"
   ]
  },
  {
   "cell_type": "markdown",
   "metadata": {},
   "source": [
    "# Predict on new data"
   ]
  },
  {
   "cell_type": "code",
   "execution_count": 90,
   "metadata": {},
   "outputs": [],
   "source": [
    "pred=(pd.read_csv('test.csv', header = 0 )).drop(columns=\"pickup_datetime\")"
   ]
  },
  {
   "cell_type": "code",
   "execution_count": 91,
   "metadata": {},
   "outputs": [],
   "source": [
    "#create Dist variable\n",
    "pred['dist'] = \\\n",
    "    haversine( pred['pickup_latitude'], pred['pickup_longitude'],\n",
    "                 pred['dropoff_latitude'], pred['dropoff_longitude'])\n",
    "\n",
    "pred['fare_amount']=0\n",
    "pred['passenger_count']=pred['passenger_count'].astype('category')"
   ]
  },
  {
   "cell_type": "code",
   "execution_count": 93,
   "metadata": {},
   "outputs": [],
   "source": [
    "# Build model on the entire cab data\n",
    "RF_model = RandomForestRegressor(n_estimators = 10).fit(cab.iloc[:, 1:7], cab.iloc[:,0])\n",
    "#predict value\n",
    "pred['fare_amount'] = RF_model.predict(pred.iloc[:, 0:6])"
   ]
  },
  {
   "cell_type": "code",
   "execution_count": null,
   "metadata": {},
   "outputs": [],
   "source": []
  }
 ],
 "metadata": {
  "kernelspec": {
   "display_name": "Python 3",
   "language": "python",
   "name": "python3"
  },
  "language_info": {
   "codemirror_mode": {
    "name": "ipython",
    "version": 3
   },
   "file_extension": ".py",
   "mimetype": "text/x-python",
   "name": "python",
   "nbconvert_exporter": "python",
   "pygments_lexer": "ipython3",
   "version": "3.7.3"
  }
 },
 "nbformat": 4,
 "nbformat_minor": 2
}
